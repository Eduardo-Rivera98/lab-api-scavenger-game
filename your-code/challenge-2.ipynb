{
 "cells": [
  {
   "cell_type": "markdown",
   "id": "threaded-asbestos",
   "metadata": {},
   "source": [
    "# Challenge 2: Count Commits\n",
    "\n",
    "Count how many commits were made in the past week.\n",
    "\n",
    "Obtain all the commits made in the past week via API, which is a JSON array that contains multiple commit objects.\n",
    "\n",
    "Count how many commit objects are contained in the array."
   ]
  },
  {
   "cell_type": "markdown",
   "id": "norwegian-praise",
   "metadata": {},
   "source": [
    "⚠️ **Remember to limit your output before submission**."
   ]
  },
  {
   "cell_type": "code",
   "execution_count": 1,
   "id": "developing-printing",
   "metadata": {},
   "outputs": [],
   "source": [
    "#Your code\n"
   ]
  },
  {
   "cell_type": "code",
   "execution_count": 15,
   "id": "5be7c4e6",
   "metadata": {},
   "outputs": [],
   "source": [
    "import json\n",
    "import requests\n",
    "import os\n",
    "from dotenv import load_dotenv"
   ]
  },
  {
   "cell_type": "code",
   "execution_count": 16,
   "id": "13e10ca2",
   "metadata": {},
   "outputs": [
    {
     "data": {
      "text/plain": [
       "True"
      ]
     },
     "execution_count": 16,
     "metadata": {},
     "output_type": "execute_result"
    }
   ],
   "source": [
    "load_dotenv()"
   ]
  },
  {
   "cell_type": "code",
   "execution_count": 17,
   "id": "de07d5c9",
   "metadata": {},
   "outputs": [],
   "source": [
    "token = os.getenv(\"token\")"
   ]
  },
  {
   "cell_type": "code",
   "execution_count": 18,
   "id": "creative-stable",
   "metadata": {},
   "outputs": [],
   "source": [
    "end= \"/repos/ironhack-datalabs/datamad1020/commits?since='2021-10-28T00:00:00Z&until=2021-11-03T23:59:59Z'\""
   ]
  },
  {
   "cell_type": "code",
   "execution_count": 22,
   "id": "ongoing-taylor",
   "metadata": {},
   "outputs": [],
   "source": [
    "def requestGithub(enlace):\n",
    "    token = os.getenv(\"token\")\n",
    "    if not token:\n",
    "        raise  ValueError (\"necesitas un token\")\n",
    "    direccion= enlace+end\n",
    "    print(f\"Estoy haciendo request a {direccion}\")\n",
    "    parametros = {\"Authorization\": f\"token {token}\"}\n",
    "    res = requests.get(direccion, params=parametros).json()\n",
    "    return res"
   ]
  },
  {
   "cell_type": "code",
   "execution_count": 23,
   "id": "a3608d0e",
   "metadata": {},
   "outputs": [
    {
     "name": "stdout",
     "output_type": "stream",
     "text": [
      "Estoy haciendo request a https://api.github.com/repos/ironhack-datalabs/datamad1020/commits?since='2021-10-28T00:00:00Z&until=2021-11-03T23:59:59Z'\n"
     ]
    }
   ],
   "source": [
    "prueba=requestGithub(\"https://api.github.com\")"
   ]
  },
  {
   "cell_type": "code",
   "execution_count": 24,
   "id": "f8d0ad70",
   "metadata": {},
   "outputs": [
    {
     "data": {
      "text/plain": [
       "[]"
      ]
     },
     "execution_count": 24,
     "metadata": {},
     "output_type": "execute_result"
    }
   ],
   "source": [
    "prueba"
   ]
  },
  {
   "cell_type": "markdown",
   "id": "6113791c",
   "metadata": {},
   "source": [
    "No he encontrado un repo de nuestro ironhack con todos los data labs, y a traves de '/repos/Ironhack-Data-Madrid-Octubre-2021' no me lo encontraba. Por lo tanto lo he hecho para el antiguo bootcamp y salia con commits vacios, es decir no habia habido ninguno en la ultima semana. Lo voy a hacer con un lab."
   ]
  },
  {
   "cell_type": "code",
   "execution_count": null,
   "id": "20e3fdb6",
   "metadata": {},
   "outputs": [],
   "source": []
  },
  {
   "cell_type": "code",
   "execution_count": 28,
   "id": "411aa458",
   "metadata": {},
   "outputs": [],
   "source": [
    "end2= \"/repos/Ironhack-Data-Madrid-Octubre-2021/lab-mysql-select/commits?since='2021-10-28T00:00:00Z&until=2021-11-03T23:59:59Z'\""
   ]
  },
  {
   "cell_type": "code",
   "execution_count": 29,
   "id": "bb3d4473",
   "metadata": {},
   "outputs": [],
   "source": [
    "def requestGithub(enlace):\n",
    "    token = os.getenv(\"token\")\n",
    "    if not token:\n",
    "        raise  ValueError (\"necesitas un token\")\n",
    "    direccion= enlace+end2\n",
    "    print(f\"Estoy haciendo request a {direccion}\")\n",
    "    parametros = {\"Authorization\": f\"token {token}\"}\n",
    "    res = requests.get(direccion, params=parametros).json()\n",
    "    return res"
   ]
  },
  {
   "cell_type": "code",
   "execution_count": 30,
   "id": "a0922696",
   "metadata": {},
   "outputs": [
    {
     "name": "stdout",
     "output_type": "stream",
     "text": [
      "Estoy haciendo request a https://api.github.com/repos/Ironhack-Data-Madrid-Octubre-2021/lab-mysql-select/commits?since='2021-10-28T00:00:00Z&until=2021-11-03T23:59:59Z'\n"
     ]
    }
   ],
   "source": [
    "prueba2=requestGithub(\"https://api.github.com\")"
   ]
  },
  {
   "cell_type": "code",
   "execution_count": 31,
   "id": "0e77d376",
   "metadata": {},
   "outputs": [
    {
     "data": {
      "text/plain": [
       "[{'sha': '5ba5c311cc7f16846c655a530cecd5339a358aca',\n",
       "  'node_id': 'C_kwDOGS-T1doAKDViYTVjMzExY2M3ZjE2ODQ2YzY1NWE1MzBjZWNkNTMzOWEzNThhY2E',\n",
       "  'commit': {'author': {'name': 'ras',\n",
       "    'email': 'agalvezcorell@gmail.com',\n",
       "    'date': '2021-10-29T11:25:38Z'},\n",
       "   'committer': {'name': 'ras',\n",
       "    'email': 'agalvezcorell@gmail.com',\n",
       "    'date': '2021-10-29T11:25:38Z'},\n",
       "   'message': 'updating',\n",
       "   'tree': {'sha': '4859b5ccfbec44b50a286fd62d1a9498eb5ec903',\n",
       "    'url': 'https://api.github.com/repos/Ironhack-Data-Madrid-Octubre-2021/lab-mysql-select/git/trees/4859b5ccfbec44b50a286fd62d1a9498eb5ec903'},\n",
       "   'url': 'https://api.github.com/repos/Ironhack-Data-Madrid-Octubre-2021/lab-mysql-select/git/commits/5ba5c311cc7f16846c655a530cecd5339a358aca',\n",
       "   'comment_count': 0,\n",
       "   'verification': {'verified': False,\n",
       "    'reason': 'unsigned',\n",
       "    'signature': None,\n",
       "    'payload': None}},\n",
       "  'url': 'https://api.github.com/repos/Ironhack-Data-Madrid-Octubre-2021/lab-mysql-select/commits/5ba5c311cc7f16846c655a530cecd5339a358aca',\n",
       "  'html_url': 'https://github.com/Ironhack-Data-Madrid-Octubre-2021/lab-mysql-select/commit/5ba5c311cc7f16846c655a530cecd5339a358aca',\n",
       "  'comments_url': 'https://api.github.com/repos/Ironhack-Data-Madrid-Octubre-2021/lab-mysql-select/commits/5ba5c311cc7f16846c655a530cecd5339a358aca/comments',\n",
       "  'author': {'login': 'agalvezcorell',\n",
       "   'id': 57899051,\n",
       "   'node_id': 'MDQ6VXNlcjU3ODk5MDUx',\n",
       "   'avatar_url': 'https://avatars.githubusercontent.com/u/57899051?v=4',\n",
       "   'gravatar_id': '',\n",
       "   'url': 'https://api.github.com/users/agalvezcorell',\n",
       "   'html_url': 'https://github.com/agalvezcorell',\n",
       "   'followers_url': 'https://api.github.com/users/agalvezcorell/followers',\n",
       "   'following_url': 'https://api.github.com/users/agalvezcorell/following{/other_user}',\n",
       "   'gists_url': 'https://api.github.com/users/agalvezcorell/gists{/gist_id}',\n",
       "   'starred_url': 'https://api.github.com/users/agalvezcorell/starred{/owner}{/repo}',\n",
       "   'subscriptions_url': 'https://api.github.com/users/agalvezcorell/subscriptions',\n",
       "   'organizations_url': 'https://api.github.com/users/agalvezcorell/orgs',\n",
       "   'repos_url': 'https://api.github.com/users/agalvezcorell/repos',\n",
       "   'events_url': 'https://api.github.com/users/agalvezcorell/events{/privacy}',\n",
       "   'received_events_url': 'https://api.github.com/users/agalvezcorell/received_events',\n",
       "   'type': 'User',\n",
       "   'site_admin': False},\n",
       "  'committer': {'login': 'agalvezcorell',\n",
       "   'id': 57899051,\n",
       "   'node_id': 'MDQ6VXNlcjU3ODk5MDUx',\n",
       "   'avatar_url': 'https://avatars.githubusercontent.com/u/57899051?v=4',\n",
       "   'gravatar_id': '',\n",
       "   'url': 'https://api.github.com/users/agalvezcorell',\n",
       "   'html_url': 'https://github.com/agalvezcorell',\n",
       "   'followers_url': 'https://api.github.com/users/agalvezcorell/followers',\n",
       "   'following_url': 'https://api.github.com/users/agalvezcorell/following{/other_user}',\n",
       "   'gists_url': 'https://api.github.com/users/agalvezcorell/gists{/gist_id}',\n",
       "   'starred_url': 'https://api.github.com/users/agalvezcorell/starred{/owner}{/repo}',\n",
       "   'subscriptions_url': 'https://api.github.com/users/agalvezcorell/subscriptions',\n",
       "   'organizations_url': 'https://api.github.com/users/agalvezcorell/orgs',\n",
       "   'repos_url': 'https://api.github.com/users/agalvezcorell/repos',\n",
       "   'events_url': 'https://api.github.com/users/agalvezcorell/events{/privacy}',\n",
       "   'received_events_url': 'https://api.github.com/users/agalvezcorell/received_events',\n",
       "   'type': 'User',\n",
       "   'site_admin': False},\n",
       "  'parents': []}]"
      ]
     },
     "execution_count": 31,
     "metadata": {},
     "output_type": "execute_result"
    }
   ],
   "source": [
    "prueba2"
   ]
  },
  {
   "cell_type": "code",
   "execution_count": 32,
   "id": "2b8289c1",
   "metadata": {},
   "outputs": [
    {
     "data": {
      "text/plain": [
       "1"
      ]
     },
     "execution_count": 32,
     "metadata": {},
     "output_type": "execute_result"
    }
   ],
   "source": [
    "len(prueba2)"
   ]
  },
  {
   "cell_type": "code",
   "execution_count": 33,
   "id": "cda7fcd1",
   "metadata": {},
   "outputs": [],
   "source": [
    "end3= \"/repos/Ironhack-Data-Madrid-Octubre-2021/apuntes-clase/commits?since='2021-10-28T00:00:00Z&until=2021-11-03T23:59:59Z'\""
   ]
  },
  {
   "cell_type": "code",
   "execution_count": 34,
   "id": "6c0df9b8",
   "metadata": {},
   "outputs": [],
   "source": [
    "def requestGithub(enlace):\n",
    "    token = os.getenv(\"token\")\n",
    "    if not token:\n",
    "        raise  ValueError (\"necesitas un token\")\n",
    "    direccion= enlace+end3\n",
    "    print(f\"Estoy haciendo request a {direccion}\")\n",
    "    parametros = {\"Authorization\": f\"token {token}\"}\n",
    "    res = requests.get(direccion, params=parametros).json()\n",
    "    return res"
   ]
  },
  {
   "cell_type": "code",
   "execution_count": 35,
   "id": "6a743141",
   "metadata": {},
   "outputs": [
    {
     "name": "stdout",
     "output_type": "stream",
     "text": [
      "Estoy haciendo request a https://api.github.com/repos/Ironhack-Data-Madrid-Octubre-2021/apuntes-clase/commits?since='2021-10-28T00:00:00Z&until=2021-11-03T23:59:59Z'\n"
     ]
    }
   ],
   "source": [
    "prueba3=requestGithub(\"https://api.github.com\")\n"
   ]
  },
  {
   "cell_type": "code",
   "execution_count": 36,
   "id": "b5f371ae",
   "metadata": {},
   "outputs": [
    {
     "data": {
      "text/plain": [
       "2"
      ]
     },
     "execution_count": 36,
     "metadata": {},
     "output_type": "execute_result"
    }
   ],
   "source": [
    "len(prueba3)"
   ]
  },
  {
   "cell_type": "code",
   "execution_count": null,
   "id": "a5bb03fb",
   "metadata": {},
   "outputs": [],
   "source": []
  },
  {
   "cell_type": "code",
   "execution_count": null,
   "id": "6197f5e3",
   "metadata": {},
   "outputs": [],
   "source": []
  }
 ],
 "metadata": {
  "kernelspec": {
   "display_name": "Ironhack",
   "language": "python",
   "name": "ironhack"
  },
  "language_info": {
   "codemirror_mode": {
    "name": "ipython",
    "version": 3
   },
   "file_extension": ".py",
   "mimetype": "text/x-python",
   "name": "python",
   "nbconvert_exporter": "python",
   "pygments_lexer": "ipython3",
   "version": "3.8.12"
  },
  "toc": {
   "base_numbering": 1,
   "nav_menu": {},
   "number_sections": true,
   "sideBar": true,
   "skip_h1_title": true,
   "title_cell": "Table of Contents",
   "title_sidebar": "Contents",
   "toc_cell": false,
   "toc_position": {
    "height": "calc(100% - 180px)",
    "left": "10px",
    "top": "150px",
    "width": "288px"
   },
   "toc_section_display": true,
   "toc_window_display": true
  }
 },
 "nbformat": 4,
 "nbformat_minor": 5
}
